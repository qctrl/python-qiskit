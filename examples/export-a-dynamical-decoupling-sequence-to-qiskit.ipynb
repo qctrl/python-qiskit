{
 "cells": [
  {
   "cell_type": "markdown",
   "metadata": {},
   "source": [
    "# Export a dynamical decoupling sequence to Qiskit\n",
    "\n",
    "Q-CTRL Open Controls provides easy-to-use methods to construct Dynamical Decoupling Sequences (DDS) according to well-known dynamical decoupling schemes. Here we show how a DDS from Q-CTRL Open Controls can be exported to a Qiskit circuit to run on an IBM Q device using Q-CTRL Qiskit Adapter. We also show how a DDS can decrease the number of errors, when executing a quantum circuit on a real quantum computer, by extending the coherence time.\n",
    "\n",
    "Note:\n",
    "* You need [Qiskit](https://qiskit.org/documentation/install.html) to create a quantum circuit. \n",
    "* You can use the [IBM Q Experience](https://quantum-computing.ibm.com) to run a quantum circuit."
   ]
  },
  {
   "cell_type": "markdown",
   "metadata": {},
   "source": [
    "## Imports"
   ]
  },
  {
   "cell_type": "code",
   "execution_count": 1,
   "metadata": {},
   "outputs": [],
   "source": [
    "# General\n",
    "\n",
    "import numpy as np\n",
    "import matplotlib.pyplot as plt\n",
    "from matplotlib.gridspec import GridSpec\n",
    "\n",
    "# Q-CTRL Open Controls\n",
    "from qctrlopencontrols import new_quadratic_sequence, new_ramsey_sequence\n",
    "\n",
    "# Q-CTRL Qiskit Adapter\n",
    "from qctrlqiskit import convert_dds_to_qiskit_quantum_circuit\n",
    "\n",
    "# Q-CTRL Visualizer\n",
    "from qctrlvisualizer import plot_sequences\n",
    "\n",
    "# Qiskit\n",
    "##To define a backend (simulated or real), transpile and assemble a circuit\n",
    "from qiskit import BasicAer\n",
    "from qiskit.compiler import transpile, assemble\n",
    "\n",
    "##To plot the outcome\n",
    "from qiskit.tools.visualization import plot_histogram\n",
    "\n",
    "## To handle account information,find a suitable device and monitor a job\n",
    "from qiskit import IBMQ\n",
    "from qiskit.providers.ibmq import least_busy\n",
    "from qiskit.tools.monitor import job_monitor"
   ]
  },
  {
   "cell_type": "markdown",
   "metadata": {},
   "source": [
    "## Running a DDS on a Qiskit simulator\n",
    "\n",
    "This section demonstrates how a DDS can be prepared and a corresponding Qiskit circuit made and executed on a Qiskit simulator.\n",
    "\n",
    "Q-CTRL Open Controls defines a DDS as a set of instantaneous unitary operations performed at specific offset times, see the [technical documentation](https://docs.q-ctrl.com/open-controls/references/qctrl-open-controls/qctrlopencontrols/DynamicDecouplingSequence.html) for mathematical details.\n",
    "\n",
    "Qiskit implements quantum computation through a series of [gates in a quantum circuit](https://qiskit.org/documentation/getting_started.html#circuit-basics). How these gates are physically implemented will depend on the device that it is run on.\n",
    "\n",
    "On IBM Q devices, individual qubit rotations are completed using two basis elements. $Z$ rotations are performed with (almost) instantaneous clock shifts and $Y$ rotations are performed with microwave pulses over a fixed time. All single qubit gates are a combination of these two.\n",
    "\n",
    "If a user wants to add pauses (in time) during a computation they can use identity gates and barriers. The barriers ensure that the circuit is not simplified before execution on the machine. Both identity gates and $X$ or $Y$ rotation gates take a fixed time (`gate_time`).\n",
    "\n",
    "Converting a DDS into a Qiskit circuit is an approximate process where the instantaneous unitaries are replaced with finite duration gates and the pauses in-between unitaries are replaced with the closest integer number of identity gates. The exact algorithm used to make this approximation is documented in the [source code](https://github.com/qctrl/python-qiskit).\n",
    "\n",
    "In this example we will define a Quadratic DDS and convert it into a circuit that we can later run on a simulator and on a real device. We also create a Ramsey DDS of the same duration to compare as a benchmark. For both the sequences, we add a $X_{\\pi/2}$ rotation on either end of the sequence."
   ]
  },
  {
   "cell_type": "markdown",
   "metadata": {},
   "source": [
    "### Preparing the sequences"
   ]
  },
  {
   "cell_type": "code",
   "execution_count": 2,
   "metadata": {},
   "outputs": [
    {
     "name": "stdout",
     "output_type": "stream",
     "text": [
      "Quadratic sequence:\n",
      "Duration = 2e-05\n",
      "Offsets = [0.0, 0.06249999999999998, 0.18749999999999994, 0.24999999999999994, 0.37499999999999994, 0.6249999999999999, 0.7499999999999999, 0.8124999999999999, 0.9375, 1.0] x 2e-05\n",
      "Rabi Rotations = [0.5, 0.0, 0.0, 1.0, 0.0, 0.0, 1.0, 0.0, 0.0, 0.5] x pi\n",
      "Azimuthal Angles = [0.0, 0.0, 0.0, 0.0, 0.0, 0.0, 0.0, 0.0, 0.0, 1.0] x pi\n",
      "Detuning Rotations = [0.0, 1.0, 1.0, 0.0, 1.0, 1.0, 0.0, 1.0, 1.0, 0.0] x pi\n",
      "Ramsey sequence:\n",
      "Duration = 2e-05\n",
      "Offsets = [0.0, 1.0] x 2e-05\n",
      "Rabi Rotations = [0.5, 0.5] x pi\n",
      "Azimuthal Angles = [0.0, 1.0] x pi\n",
      "Detuning Rotations = [0.0, 0.0] x pi\n"
     ]
    }
   ],
   "source": [
    "## Quadratic sequence, total duration: 20us\n",
    "quadratic_sequence = new_quadratic_sequence(\n",
    "    duration=20e-6,\n",
    "    inner_offset_count=2,\n",
    "    outer_offset_count=2,\n",
    "    pre_post_rotation=True,\n",
    "    name=\"Quadratic sequence\",\n",
    ")\n",
    "\n",
    "# Ramsey sequence, total duration: 20us\n",
    "ramsey_sequence = new_ramsey_sequence(\n",
    "    duration=20e-6, pre_post_rotation=True, name=\"Ramsey sequence\"\n",
    ")\n",
    "\n",
    "print(quadratic_sequence)\n",
    "print(ramsey_sequence)"
   ]
  },
  {
   "cell_type": "markdown",
   "metadata": {},
   "source": [
    "### Constructing the QuantumCircuit using Q-CTRL Open Controls\n",
    "\n",
    "To construct a `QuantumCircuit` from a DDS we need:\n",
    "* `dynamic_decoupling_sequence` - a DDS. \n",
    "* `target_qubits` - a list of od qubit indices on which the DDS will be applied. \n",
    "* `gate_time` is the delay (in seconds) introduced by each of the `identity` gates. \n",
    "* (optional) `add_measurement` - if a measurement is required.\n",
    "\n",
    "In this example, we will use $0$th qubit and specify the `gate_time` to be $0.4$ $\\mu$s. Both the DDS will require a measurement operation."
   ]
  },
  {
   "cell_type": "code",
   "execution_count": 3,
   "metadata": {},
   "outputs": [],
   "source": [
    "## Prepare the Qiskit related parameters\n",
    "\"\"\"\n",
    "target_qubits : list\n",
    "    A list of integers specifying the target qubits within the set of qubit registers\n",
    "\"\"\"\n",
    "target_qubits = [0]\n",
    "\n",
    "\"\"\"\n",
    "gate_time : float\n",
    "    Time delay (in seconds) introduced by identity gate\n",
    "\"\"\"\n",
    "gate_time = 0.4e-6\n",
    "\n",
    "\"\"\"\n",
    "add_measurement : bool\n",
    "    Indicates if the circuit requires a measurement step.\n",
    "    Required for 'qasm_simulator' and real device backends\n",
    "\"\"\"\n",
    "add_measurement = True\n",
    "\n",
    "\"\"\"\n",
    "circuit_name : str\n",
    "    An optional string as a name to the circuit\n",
    "\"\"\"\n",
    "circuit_name = \"quadratic-sequence-circuit\"\n",
    "\n",
    "## convert the quadratic sequence to QuantumCircuit\n",
    "\n",
    "quadratic_quantum_circuit = convert_dds_to_qiskit_quantum_circuit(\n",
    "    dynamic_decoupling_sequence=quadratic_sequence,\n",
    "    target_qubits=target_qubits,\n",
    "    gate_time=gate_time,\n",
    "    add_measurement=add_measurement,\n",
    "    circuit_name=circuit_name,\n",
    ")\n",
    "\n",
    "## convert the ramsey sequence to QuantumCircuit\n",
    "circuit_name = \"ramsey-sequence-circuit\"\n",
    "ramsey_quantum_circuit = convert_dds_to_qiskit_quantum_circuit(\n",
    "    dynamic_decoupling_sequence=ramsey_sequence,\n",
    "    target_qubits=target_qubits,\n",
    "    gate_time=gate_time,\n",
    "    add_measurement=add_measurement,\n",
    "    circuit_name=circuit_name,\n",
    ")"
   ]
  },
  {
   "cell_type": "markdown",
   "metadata": {},
   "source": [
    "### Plotting the DDS\n",
    "\n",
    "We can use the Q-CTRL Python Visualizer package to plot the DDS for comparison against their Qiskit circuit approximations."
   ]
  },
  {
   "cell_type": "code",
   "execution_count": 4,
   "metadata": {},
   "outputs": [
    {
     "data": {
      "image/png": "[encoded data removed]",
      "text/plain": [
       "<Figure size 720x540 with 3 Axes>"
      ]
     },
     "metadata": {
      "needs_background": "light"
     },
     "output_type": "display_data"
    }
   ],
   "source": [
    "formatted_plot_data = quadratic_sequence.export()\n",
    "figure = plt.figure()\n",
    "plt.suptitle(\"Quadratic Sequence\")\n",
    "plot_sequences(figure, formatted_plot_data)"
   ]
  },
  {
   "cell_type": "code",
   "execution_count": 5,
   "metadata": {},
   "outputs": [
    {
     "data": {
      "image/png": "[encoded data removed]",
      "text/plain": [
       "<Figure size 720x540 with 3 Axes>"
      ]
     },
     "metadata": {
      "needs_background": "light"
     },
     "output_type": "display_data"
    }
   ],
   "source": [
    "formatted_plot_data = ramsey_sequence.export()\n",
    "figure = plt.figure()\n",
    "plt.suptitle(\"Ramsey Sequence\")\n",
    "plot_sequences(figure, formatted_plot_data)"
   ]
  },
  {
   "cell_type": "markdown",
   "metadata": {},
   "source": [
    "### Drawing the circuits\n",
    "\n",
    "We can use Qiskit to draw the circuits generated by Q-CTRL Open Controls."
   ]
  },
  {
   "cell_type": "markdown",
   "metadata": {},
   "source": [
    "#### Drawing the Quadratic DDS Circuit\n",
    "\n",
    "Note that both DDS will be applied with $X_{\\pi/2}$ rotations at beginning and end, that is, at offsets of $[0, 20]$ $\\mu$s, to create the desired superposition state. The $X_{\\pi/2}$ rotations are added to the circuits in the form of pre-post-gates that are implemented via Qiskit's $U3(\\pi/2, -\\pi/2, \\pi/2)$ gate.\n",
    "\n",
    "The $U1(\\pi)$ gates are $Z_\\pi$ pulses (a $\\pi$ rotation around $Z$-axis) and $U3(\\pi, -\\pi/2, \\pi/2)$ gates correspond to $X_{\\pi}$ pulses (a $\\pi$ rotation around $X$-axis). The gates match the pulses in the DDS.\n",
    "\n",
    "The `Id` in the drawing corresponds to the `identity` gate. In the DDS, the first $Z_{\\pi}$-pulse is applied at a delay of $1.25$ $\\mu$s. This is approximated by introducing 3-`Id` gates with a delay of $0.4\\times 3=1.2$ $\\mu s$. Similarly, the second set of 6 `Id` gates introduces a delay of $2.4$ $\\mu s$ close to the actual delay of $3.75-1.25=2.50\\mu s$.\n",
    "\n",
    "The `barrier` gates are special gates that tell the Qiskit compilers not to simplify a circuit at the specified positions.\n",
    "\n",
    "At the end of each circuit, we place a `measurement` operator to read out the result."
   ]
  },
  {
   "cell_type": "code",
   "execution_count": 6,
   "metadata": {},
   "outputs": [
    {
     "data": {
      "text/html": [
       "<pre style=\"word-wrap: normal;white-space: pre;background: #fff0;line-height: 1.1;font-family: &quot;Courier New&quot;,Courier,monospace\">      ┌──────────────────┐ ░ ┌───┐ ░ ┌───┐ ░ ┌───┐ ░ ┌───────┐ ░ ┌───┐ ░ ┌───┐»\n",
       "q0_0: ┤ U3(π/2,-π/2,π/2) ├─░─┤ I ├─░─┤ I ├─░─┤ I ├─░─┤ U1(π) ├─░─┤ I ├─░─┤ I ├»\n",
       "      └──────────────────┘ ░ └───┘ ░ └───┘ ░ └───┘ ░ └───────┘ ░ └───┘ ░ └───┘»\n",
       "c0: 1/════════════════════════════════════════════════════════════════════════»\n",
       "                                                                              »\n",
       "«       ░ ┌───┐ ░ ┌───┐ ░ ┌───┐ ░ ┌───┐ ░ ┌───────┐ ░ ┌───┐ ░ ┌───┐ ░ ┌───┐ ░ »\n",
       "«q0_0: ─░─┤ I ├─░─┤ I ├─░─┤ I ├─░─┤ I ├─░─┤ U1(π) ├─░─┤ I ├─░─┤ I ├─░─┤ I ├─░─»\n",
       "«       ░ └───┘ ░ └───┘ ░ └───┘ ░ └───┘ ░ └───────┘ ░ └───┘ ░ └───┘ ░ └───┘ ░ »\n",
       "«c0: 1/═══════════════════════════════════════════════════════════════════════»\n",
       "«                                                                             »\n",
       "«      ┌────────────────┐ ░ ┌───┐ ░ ┌───┐ ░ ┌───┐ ░ ┌───┐ ░ ┌───┐ ░ ┌───┐ ░ »\n",
       "«q0_0: ┤ U3(π,-π/2,π/2) ├─░─┤ I ├─░─┤ I ├─░─┤ I ├─░─┤ I ├─░─┤ I ├─░─┤ I ├─░─»\n",
       "«      └────────────────┘ ░ └───┘ ░ └───┘ ░ └───┘ ░ └───┘ ░ └───┘ ░ └───┘ ░ »\n",
       "«c0: 1/═════════════════════════════════════════════════════════════════════»\n",
       "«                                                                           »\n",
       "«      ┌───────┐ ░ ┌───┐ ░ ┌───┐ ░ ┌───┐ ░ ┌───┐ ░ ┌───┐ ░ ┌───┐ ░ ┌───┐ ░ »\n",
       "«q0_0: ┤ U1(π) ├─░─┤ I ├─░─┤ I ├─░─┤ I ├─░─┤ I ├─░─┤ I ├─░─┤ I ├─░─┤ I ├─░─»\n",
       "«      └───────┘ ░ └───┘ ░ └───┘ ░ └───┘ ░ └───┘ ░ └───┘ ░ └───┘ ░ └───┘ ░ »\n",
       "«c0: 1/════════════════════════════════════════════════════════════════════»\n",
       "«                                                                          »\n",
       "«      ┌───┐ ░ ┌───┐ ░ ┌───┐ ░ ┌───┐ ░ ┌───┐ ░ ┌───────┐ ░ ┌───┐ ░ ┌───┐ ░ »\n",
       "«q0_0: ┤ I ├─░─┤ I ├─░─┤ I ├─░─┤ I ├─░─┤ I ├─░─┤ U1(π) ├─░─┤ I ├─░─┤ I ├─░─»\n",
       "«      └───┘ ░ └───┘ ░ └───┘ ░ └───┘ ░ └───┘ ░ └───────┘ ░ └───┘ ░ └───┘ ░ »\n",
       "«c0: 1/════════════════════════════════════════════════════════════════════»\n",
       "«                                                                          »\n",
       "«      ┌───┐ ░ ┌───┐ ░ ┌───┐ ░ ┌───┐ ░ ┌────────────────┐ ░ ┌───┐ ░ ┌───┐ ░ »\n",
       "«q0_0: ┤ I ├─░─┤ I ├─░─┤ I ├─░─┤ I ├─░─┤ U3(π,-π/2,π/2) ├─░─┤ I ├─░─┤ I ├─░─»\n",
       "«      └───┘ ░ └───┘ ░ └───┘ ░ └───┘ ░ └────────────────┘ ░ └───┘ ░ └───┘ ░ »\n",
       "«c0: 1/═════════════════════════════════════════════════════════════════════»\n",
       "«                                                                           »\n",
       "«      ┌───┐ ░ ┌───────┐ ░ ┌───┐ ░ ┌───┐ ░ ┌───┐ ░ ┌───┐ ░ ┌───┐ ░ ┌───┐ ░ »\n",
       "«q0_0: ┤ I ├─░─┤ U1(π) ├─░─┤ I ├─░─┤ I ├─░─┤ I ├─░─┤ I ├─░─┤ I ├─░─┤ I ├─░─»\n",
       "«      └───┘ ░ └───────┘ ░ └───┘ ░ └───┘ ░ └───┘ ░ └───┘ ░ └───┘ ░ └───┘ ░ »\n",
       "«c0: 1/════════════════════════════════════════════════════════════════════»\n",
       "«                                                                          »\n",
       "«      ┌───────┐ ░ ┌───┐ ░ ┌───┐ ░ ┌───┐ ░ ┌───────────────────┐ ░ ┌─┐\n",
       "«q0_0: ┤ U1(π) ├─░─┤ I ├─░─┤ I ├─░─┤ I ├─░─┤ U3(-π/2,-π/2,π/2) ├─░─┤M├\n",
       "«      └───────┘ ░ └───┘ ░ └───┘ ░ └───┘ ░ └───────────────────┘ ░ └╥┘\n",
       "«c0: 1/═════════════════════════════════════════════════════════════╩═\n",
       "«                                                                   0 </pre>"
      ],
      "text/plain": [
       "      ┌──────────────────┐ ░ ┌───┐ ░ ┌───┐ ░ ┌───┐ ░ ┌───────┐ ░ ┌───┐ ░ ┌───┐»\n",
       "q0_0: ┤ U3(π/2,-π/2,π/2) ├─░─┤ I ├─░─┤ I ├─░─┤ I ├─░─┤ U1(π) ├─░─┤ I ├─░─┤ I ├»\n",
       "      └──────────────────┘ ░ └───┘ ░ └───┘ ░ └───┘ ░ └───────┘ ░ └───┘ ░ └───┘»\n",
       "c0: 1/════════════════════════════════════════════════════════════════════════»\n",
       "                                                                              »\n",
       "«       ░ ┌───┐ ░ ┌───┐ ░ ┌───┐ ░ ┌───┐ ░ ┌───────┐ ░ ┌───┐ ░ ┌───┐ ░ ┌───┐ ░ »\n",
       "«q0_0: ─░─┤ I ├─░─┤ I ├─░─┤ I ├─░─┤ I ├─░─┤ U1(π) ├─░─┤ I ├─░─┤ I ├─░─┤ I ├─░─»\n",
       "«       ░ └───┘ ░ └───┘ ░ └───┘ ░ └───┘ ░ └───────┘ ░ └───┘ ░ └───┘ ░ └───┘ ░ »\n",
       "«c0: 1/═══════════════════════════════════════════════════════════════════════»\n",
       "«                                                                             »\n",
       "«      ┌────────────────┐ ░ ┌───┐ ░ ┌───┐ ░ ┌───┐ ░ ┌───┐ ░ ┌───┐ ░ ┌───┐ ░ »\n",
       "«q0_0: ┤ U3(π,-π/2,π/2) ├─░─┤ I ├─░─┤ I ├─░─┤ I ├─░─┤ I ├─░─┤ I ├─░─┤ I ├─░─»\n",
       "«      └────────────────┘ ░ └───┘ ░ └───┘ ░ └───┘ ░ └───┘ ░ └───┘ ░ └───┘ ░ »\n",
       "«c0: 1/═════════════════════════════════════════════════════════════════════»\n",
       "«                                                                           »\n",
       "«      ┌───────┐ ░ ┌───┐ ░ ┌───┐ ░ ┌───┐ ░ ┌───┐ ░ ┌───┐ ░ ┌───┐ ░ ┌───┐ ░ »\n",
       "«q0_0: ┤ U1(π) ├─░─┤ I ├─░─┤ I ├─░─┤ I ├─░─┤ I ├─░─┤ I ├─░─┤ I ├─░─┤ I ├─░─»\n",
       "«      └───────┘ ░ └───┘ ░ └───┘ ░ └───┘ ░ └───┘ ░ └───┘ ░ └───┘ ░ └───┘ ░ »\n",
       "«c0: 1/════════════════════════════════════════════════════════════════════»\n",
       "«                                                                          »\n",
       "«      ┌───┐ ░ ┌───┐ ░ ┌───┐ ░ ┌───┐ ░ ┌───┐ ░ ┌───────┐ ░ ┌───┐ ░ ┌───┐ ░ »\n",
       "«q0_0: ┤ I ├─░─┤ I ├─░─┤ I ├─░─┤ I ├─░─┤ I ├─░─┤ U1(π) ├─░─┤ I ├─░─┤ I ├─░─»\n",
       "«      └───┘ ░ └───┘ ░ └───┘ ░ └───┘ ░ └───┘ ░ └───────┘ ░ └───┘ ░ └───┘ ░ »\n",
       "«c0: 1/════════════════════════════════════════════════════════════════════»\n",
       "«                                                                          »\n",
       "«      ┌───┐ ░ ┌───┐ ░ ┌───┐ ░ ┌───┐ ░ ┌────────────────┐ ░ ┌───┐ ░ ┌───┐ ░ »\n",
       "«q0_0: ┤ I ├─░─┤ I ├─░─┤ I ├─░─┤ I ├─░─┤ U3(π,-π/2,π/2) ├─░─┤ I ├─░─┤ I ├─░─»\n",
       "«      └───┘ ░ └───┘ ░ └───┘ ░ └───┘ ░ └────────────────┘ ░ └───┘ ░ └───┘ ░ »\n",
       "«c0: 1/═════════════════════════════════════════════════════════════════════»\n",
       "«                                                                           »\n",
       "«      ┌───┐ ░ ┌───────┐ ░ ┌───┐ ░ ┌───┐ ░ ┌───┐ ░ ┌───┐ ░ ┌───┐ ░ ┌───┐ ░ »\n",
       "«q0_0: ┤ I ├─░─┤ U1(π) ├─░─┤ I ├─░─┤ I ├─░─┤ I ├─░─┤ I ├─░─┤ I ├─░─┤ I ├─░─»\n",
       "«      └───┘ ░ └───────┘ ░ └───┘ ░ └───┘ ░ └───┘ ░ └───┘ ░ └───┘ ░ └───┘ ░ »\n",
       "«c0: 1/════════════════════════════════════════════════════════════════════»\n",
       "«                                                                          »\n",
       "«      ┌───────┐ ░ ┌───┐ ░ ┌───┐ ░ ┌───┐ ░ ┌───────────────────┐ ░ ┌─┐\n",
       "«q0_0: ┤ U1(π) ├─░─┤ I ├─░─┤ I ├─░─┤ I ├─░─┤ U3(-π/2,-π/2,π/2) ├─░─┤M├\n",
       "«      └───────┘ ░ └───┘ ░ └───┘ ░ └───┘ ░ └───────────────────┘ ░ └╥┘\n",
       "«c0: 1/═════════════════════════════════════════════════════════════╩═\n",
       "«                                                                   0 "
      ]
     },
     "execution_count": 6,
     "metadata": {},
     "output_type": "execute_result"
    }
   ],
   "source": [
    "##Drawing the Quadratic Circuit\n",
    "quadratic_quantum_circuit.draw()"
   ]
  },
  {
   "cell_type": "markdown",
   "metadata": {},
   "source": [
    "#### Drawing the Ramsey DDS Circuit\n",
    "\n",
    "The drawing below shows the Ramsey DDS circuit consists of `Id` or `identity` gates surrounded by $X_{\\pi/2}$-pulses on both ends. The `measurement` operator appears at the end as in the original definition of the circuit. This will help us run the circuit in one of the simulators."
   ]
  },
  {
   "cell_type": "code",
   "execution_count": 7,
   "metadata": {},
   "outputs": [
    {
     "data": {
      "text/html": [
       "<pre style=\"word-wrap: normal;white-space: pre;background: #fff0;line-height: 1.1;font-family: &quot;Courier New&quot;,Courier,monospace\">      ┌──────────────────┐ ░ ┌───┐ ░ ┌───┐ ░ ┌───┐ ░ ┌───┐ ░ ┌───┐ ░ ┌───┐ ░ »\n",
       "q1_0: ┤ U3(π/2,-π/2,π/2) ├─░─┤ I ├─░─┤ I ├─░─┤ I ├─░─┤ I ├─░─┤ I ├─░─┤ I ├─░─»\n",
       "      └──────────────────┘ ░ └───┘ ░ └───┘ ░ └───┘ ░ └───┘ ░ └───┘ ░ └───┘ ░ »\n",
       "c1: 1/═══════════════════════════════════════════════════════════════════════»\n",
       "                                                                             »\n",
       "«      ┌───┐ ░ ┌───┐ ░ ┌───┐ ░ ┌───┐ ░ ┌───┐ ░ ┌───┐ ░ ┌───┐ ░ ┌───┐ ░ ┌───┐ ░ »\n",
       "«q1_0: ┤ I ├─░─┤ I ├─░─┤ I ├─░─┤ I ├─░─┤ I ├─░─┤ I ├─░─┤ I ├─░─┤ I ├─░─┤ I ├─░─»\n",
       "«      └───┘ ░ └───┘ ░ └───┘ ░ └───┘ ░ └───┘ ░ └───┘ ░ └───┘ ░ └───┘ ░ └───┘ ░ »\n",
       "«c1: 1/════════════════════════════════════════════════════════════════════════»\n",
       "«                                                                              »\n",
       "«      ┌───┐ ░ ┌───┐ ░ ┌───┐ ░ ┌───┐ ░ ┌───┐ ░ ┌───┐ ░ ┌───┐ ░ ┌───┐ ░ ┌───┐ ░ »\n",
       "«q1_0: ┤ I ├─░─┤ I ├─░─┤ I ├─░─┤ I ├─░─┤ I ├─░─┤ I ├─░─┤ I ├─░─┤ I ├─░─┤ I ├─░─»\n",
       "«      └───┘ ░ └───┘ ░ └───┘ ░ └───┘ ░ └───┘ ░ └───┘ ░ └───┘ ░ └───┘ ░ └───┘ ░ »\n",
       "«c1: 1/════════════════════════════════════════════════════════════════════════»\n",
       "«                                                                              »\n",
       "«      ┌───┐ ░ ┌───┐ ░ ┌───┐ ░ ┌───┐ ░ ┌───┐ ░ ┌───┐ ░ ┌───┐ ░ ┌───┐ ░ ┌───┐ ░ »\n",
       "«q1_0: ┤ I ├─░─┤ I ├─░─┤ I ├─░─┤ I ├─░─┤ I ├─░─┤ I ├─░─┤ I ├─░─┤ I ├─░─┤ I ├─░─»\n",
       "«      └───┘ ░ └───┘ ░ └───┘ ░ └───┘ ░ └───┘ ░ └───┘ ░ └───┘ ░ └───┘ ░ └───┘ ░ »\n",
       "«c1: 1/════════════════════════════════════════════════════════════════════════»\n",
       "«                                                                              »\n",
       "«      ┌───┐ ░ ┌───┐ ░ ┌───┐ ░ ┌───┐ ░ ┌───┐ ░ ┌───┐ ░ ┌───┐ ░ ┌───┐ ░ ┌───┐ ░ »\n",
       "«q1_0: ┤ I ├─░─┤ I ├─░─┤ I ├─░─┤ I ├─░─┤ I ├─░─┤ I ├─░─┤ I ├─░─┤ I ├─░─┤ I ├─░─»\n",
       "«      └───┘ ░ └───┘ ░ └───┘ ░ └───┘ ░ └───┘ ░ └───┘ ░ └───┘ ░ └───┘ ░ └───┘ ░ »\n",
       "«c1: 1/════════════════════════════════════════════════════════════════════════»\n",
       "«                                                                              »\n",
       "«      ┌───┐ ░ ┌───┐ ░ ┌───┐ ░ ┌───┐ ░ ┌───┐ ░ ┌───┐ ░ ┌───┐ ░ ┌───┐ ░ »\n",
       "«q1_0: ┤ I ├─░─┤ I ├─░─┤ I ├─░─┤ I ├─░─┤ I ├─░─┤ I ├─░─┤ I ├─░─┤ I ├─░─»\n",
       "«      └───┘ ░ └───┘ ░ └───┘ ░ └───┘ ░ └───┘ ░ └───┘ ░ └───┘ ░ └───┘ ░ »\n",
       "«c1: 1/════════════════════════════════════════════════════════════════»\n",
       "«                                                                      »\n",
       "«      ┌───────────────────┐ ░ ┌─┐\n",
       "«q1_0: ┤ U3(-π/2,-π/2,π/2) ├─░─┤M├\n",
       "«      └───────────────────┘ ░ └╥┘\n",
       "«c1: 1/═════════════════════════╩═\n",
       "«                               0 </pre>"
      ],
      "text/plain": [
       "      ┌──────────────────┐ ░ ┌───┐ ░ ┌───┐ ░ ┌───┐ ░ ┌───┐ ░ ┌───┐ ░ ┌───┐ ░ »\n",
       "q1_0: ┤ U3(π/2,-π/2,π/2) ├─░─┤ I ├─░─┤ I ├─░─┤ I ├─░─┤ I ├─░─┤ I ├─░─┤ I ├─░─»\n",
       "      └──────────────────┘ ░ └───┘ ░ └───┘ ░ └───┘ ░ └───┘ ░ └───┘ ░ └───┘ ░ »\n",
       "c1: 1/═══════════════════════════════════════════════════════════════════════»\n",
       "                                                                             »\n",
       "«      ┌───┐ ░ ┌───┐ ░ ┌───┐ ░ ┌───┐ ░ ┌───┐ ░ ┌───┐ ░ ┌───┐ ░ ┌───┐ ░ ┌───┐ ░ »\n",
       "«q1_0: ┤ I ├─░─┤ I ├─░─┤ I ├─░─┤ I ├─░─┤ I ├─░─┤ I ├─░─┤ I ├─░─┤ I ├─░─┤ I ├─░─»\n",
       "«      └───┘ ░ └───┘ ░ └───┘ ░ └───┘ ░ └───┘ ░ └───┘ ░ └───┘ ░ └───┘ ░ └───┘ ░ »\n",
       "«c1: 1/════════════════════════════════════════════════════════════════════════»\n",
       "«                                                                              »\n",
       "«      ┌───┐ ░ ┌───┐ ░ ┌───┐ ░ ┌───┐ ░ ┌───┐ ░ ┌───┐ ░ ┌───┐ ░ ┌───┐ ░ ┌───┐ ░ »\n",
       "«q1_0: ┤ I ├─░─┤ I ├─░─┤ I ├─░─┤ I ├─░─┤ I ├─░─┤ I ├─░─┤ I ├─░─┤ I ├─░─┤ I ├─░─»\n",
       "«      └───┘ ░ └───┘ ░ └───┘ ░ └───┘ ░ └───┘ ░ └───┘ ░ └───┘ ░ └───┘ ░ └───┘ ░ »\n",
       "«c1: 1/════════════════════════════════════════════════════════════════════════»\n",
       "«                                                                              »\n",
       "«      ┌───┐ ░ ┌───┐ ░ ┌───┐ ░ ┌───┐ ░ ┌───┐ ░ ┌───┐ ░ ┌───┐ ░ ┌───┐ ░ ┌───┐ ░ »\n",
       "«q1_0: ┤ I ├─░─┤ I ├─░─┤ I ├─░─┤ I ├─░─┤ I ├─░─┤ I ├─░─┤ I ├─░─┤ I ├─░─┤ I ├─░─»\n",
       "«      └───┘ ░ └───┘ ░ └───┘ ░ └───┘ ░ └───┘ ░ └───┘ ░ └───┘ ░ └───┘ ░ └───┘ ░ »\n",
       "«c1: 1/════════════════════════════════════════════════════════════════════════»\n",
       "«                                                                              »\n",
       "«      ┌───┐ ░ ┌───┐ ░ ┌───┐ ░ ┌───┐ ░ ┌───┐ ░ ┌───┐ ░ ┌───┐ ░ ┌───┐ ░ ┌───┐ ░ »\n",
       "«q1_0: ┤ I ├─░─┤ I ├─░─┤ I ├─░─┤ I ├─░─┤ I ├─░─┤ I ├─░─┤ I ├─░─┤ I ├─░─┤ I ├─░─»\n",
       "«      └───┘ ░ └───┘ ░ └───┘ ░ └───┘ ░ └───┘ ░ └───┘ ░ └───┘ ░ └───┘ ░ └───┘ ░ »\n",
       "«c1: 1/════════════════════════════════════════════════════════════════════════»\n",
       "«                                                                              »\n",
       "«      ┌───┐ ░ ┌───┐ ░ ┌───┐ ░ ┌───┐ ░ ┌───┐ ░ ┌───┐ ░ ┌───┐ ░ ┌───┐ ░ »\n",
       "«q1_0: ┤ I ├─░─┤ I ├─░─┤ I ├─░─┤ I ├─░─┤ I ├─░─┤ I ├─░─┤ I ├─░─┤ I ├─░─»\n",
       "«      └───┘ ░ └───┘ ░ └───┘ ░ └───┘ ░ └───┘ ░ └───┘ ░ └───┘ ░ └───┘ ░ »\n",
       "«c1: 1/════════════════════════════════════════════════════════════════»\n",
       "«                                                                      »\n",
       "«      ┌───────────────────┐ ░ ┌─┐\n",
       "«q1_0: ┤ U3(-π/2,-π/2,π/2) ├─░─┤M├\n",
       "«      └───────────────────┘ ░ └╥┘\n",
       "«c1: 1/═════════════════════════╩═\n",
       "«                               0 "
      ]
     },
     "execution_count": 7,
     "metadata": {},
     "output_type": "execute_result"
    }
   ],
   "source": [
    "ramsey_quantum_circuit.draw()"
   ]
  },
  {
   "cell_type": "markdown",
   "metadata": {},
   "source": [
    "And here we count 50 `Id` operations, implementing a total delay of $50 \\times 0.4 = 20 \\mu s$"
   ]
  },
  {
   "cell_type": "code",
   "execution_count": 8,
   "metadata": {},
   "outputs": [
    {
     "name": "stdout",
     "output_type": "stream",
     "text": [
      "50\n"
     ]
    }
   ],
   "source": [
    "print(ramsey_quantum_circuit.count_ops()[\"id\"])"
   ]
  },
  {
   "cell_type": "markdown",
   "metadata": {},
   "source": [
    "### Run the circuit on Qiskit Simulator using Qiskit API\n",
    "\n",
    "Before running our circuits on the real IBM Q hardware, let's run them through a simulator first.\n",
    "\n",
    "Consult [Simulating Circuits using Qiskit Aer](https://qiskit.org/documentation/getting_started.html#simulating-circuits-using-qiskit-aer) for a description of available simulators and their respective properties.\n",
    "\n",
    "Here, we will use the `qasm-simulator` to run the circuit. The experiment consists of `number_of_shots` repeats of the circuit operations on a qubit. Each run collects the state of the qubit as measurement. The result is displayed as a histogram."
   ]
  },
  {
   "cell_type": "code",
   "execution_count": 9,
   "metadata": {},
   "outputs": [],
   "source": [
    "## Prepares the simulator backend\n",
    "\"\"\"\n",
    "backend : str\n",
    "    One of 'unitary_simulator', 'statevector_simulator' or 'qasm_simulator';\n",
    "    defaults to 'qasm_simulator'\n",
    "\"\"\"\n",
    "backend = \"qasm_simulator\"\n",
    "backend_simulator = BasicAer.get_backend(backend)\n",
    "\n",
    "\"\"\"\n",
    "number_of_shots : int\n",
    "    Number of repeats the experiment has to be carried out;\n",
    "    defaults to 1\n",
    "\"\"\"\n",
    "number_of_shots = 1024"
   ]
  },
  {
   "cell_type": "code",
   "execution_count": 10,
   "metadata": {},
   "outputs": [
    {
     "data": {
      "image/png": "[encoded data removed]",
      "text/plain": [
       "<Figure size 504x360 with 1 Axes>"
      ]
     },
     "execution_count": 10,
     "metadata": {},
     "output_type": "execute_result"
    }
   ],
   "source": [
    "## Run the quadratic sequence circuit, Get the result (counts of state |1> and |0>), plot the histogram\n",
    "\n",
    "# Transpile and assemble the circuits so that the identity gates are preserved\n",
    "transpiled_quadratic_circuit = transpile(\n",
    "    quadratic_quantum_circuit, backend=backend_simulator, optimization_level=0\n",
    ")\n",
    "assembled_quadratic_circuit = assemble(\n",
    "    transpiled_quadratic_circuit, shots=number_of_shots\n",
    ")\n",
    "\n",
    "# run the circuit\n",
    "job = backend_simulator.run(assembled_quadratic_circuit)\n",
    "result = job.result()\n",
    "counts = result.get_counts(quadratic_quantum_circuit)\n",
    "plot_histogram(counts)"
   ]
  },
  {
   "cell_type": "code",
   "execution_count": 11,
   "metadata": {},
   "outputs": [
    {
     "data": {
      "image/png": "[encoded data removed]",
      "text/plain": [
       "<Figure size 504x360 with 1 Axes>"
      ]
     },
     "execution_count": 11,
     "metadata": {},
     "output_type": "execute_result"
    }
   ],
   "source": [
    "## Run the ramsey sequence circuit, Get the result (counts of state |1> and |0>), plot the histogram\n",
    "\n",
    "# Transpile and assemble the circuits so that the identity gates are preserved\n",
    "transpiled_ramsey_circuit = transpile(\n",
    "    ramsey_quantum_circuit, backend=backend_simulator, optimization_level=0\n",
    ")\n",
    "assembled_ramsey_circuit = assemble(transpiled_ramsey_circuit, shots=number_of_shots)\n",
    "\n",
    "job = backend_simulator.run(assembled_ramsey_circuit)\n",
    "result = job.result()\n",
    "counts = result.get_counts(ramsey_quantum_circuit)\n",
    "plot_histogram(counts)"
   ]
  },
  {
   "cell_type": "markdown",
   "metadata": {},
   "source": [
    "## Running a dynamical decoupling sequence on a real device\n",
    "\n",
    "Now that we've verified that our circuits run on the simulators, let's take a look at what happens when we run them on the real IBM Q devices.\n",
    "\n",
    "We use the same DDS and circuit defined above and use Qiskit's APIs to run the circuit. See [Running Circuits on IBM Q Devices](https://qiskit.org/documentation/getting_started.html#running-circuits-on-ibm-q-devices) for a more detailed explanation of the APIs used here."
   ]
  },
  {
   "cell_type": "markdown",
   "metadata": {},
   "source": [
    "### Select a suitable device based on account type and configuration using Qiskit API\n",
    "\n",
    "We use a basic configuration and choose the least busy device."
   ]
  },
  {
   "cell_type": "code",
   "execution_count": 13,
   "metadata": {},
   "outputs": [
    {
     "name": "stdout",
     "output_type": "stream",
     "text": [
      "Least busy device is ibmq_ourense\n"
     ]
    }
   ],
   "source": [
    "# NBVAL_SKIP\n",
    "\"\"\"\n",
    "account_token : str\n",
    "    Token to enable IBM Q device access\n",
    "\"\"\"\n",
    "account_token = \"insert-your-ibmq-token-here\"\n",
    "IBMQ.enable_account(account_token)\n",
    "provider = IBMQ.get_provider(hub=\"ibm-q\", group=\"open\")\n",
    "backends = provider.backends()\n",
    "backends = [backend for backend in backends if backend.name() != \"ibmq_qasm_simulator\"]\n",
    "\n",
    "backend = least_busy(backends)\n",
    "print(\"Least busy device is {}\".format(backend.name()))"
   ]
  },
  {
   "cell_type": "markdown",
   "metadata": {},
   "source": [
    "### Run the circuits on a real device using Qiskit API"
   ]
  },
  {
   "cell_type": "markdown",
   "metadata": {},
   "source": [
    "#### Run the assembled Quadratic sequence"
   ]
  },
  {
   "cell_type": "code",
   "execution_count": 14,
   "metadata": {},
   "outputs": [
    {
     "name": "stdout",
     "output_type": "stream",
     "text": [
      "Job Status: job has successfully run\n"
     ]
    },
    {
     "data": {
      "image/png": "[encoded data removed]",
      "text/plain": [
       "<Figure size 504x360 with 1 Axes>"
      ]
     },
     "execution_count": 14,
     "metadata": {},
     "output_type": "execute_result"
    }
   ],
   "source": [
    "# NBVAL_SKIP\n",
    "\n",
    "job = backend.run(assembled_quadratic_circuit)\n",
    "job_monitor(job)\n",
    "result = job.result()\n",
    "counts = result.get_counts(quadratic_quantum_circuit)\n",
    "plot_histogram(counts)"
   ]
  },
  {
   "cell_type": "markdown",
   "metadata": {},
   "source": [
    "#### Run the assembled Ramsey sequence"
   ]
  },
  {
   "cell_type": "code",
   "execution_count": 15,
   "metadata": {},
   "outputs": [
    {
     "name": "stdout",
     "output_type": "stream",
     "text": [
      "Job Status: job has successfully run\n"
     ]
    },
    {
     "data": {
      "image/png": "[encoded data removed]",
      "text/plain": [
       "<Figure size 504x360 with 1 Axes>"
      ]
     },
     "execution_count": 15,
     "metadata": {},
     "output_type": "execute_result"
    }
   ],
   "source": [
    "# NBVAL_SKIP\n",
    "\n",
    "job = backend.run(assembled_ramsey_circuit)\n",
    "job_monitor(job)\n",
    "result = job.result()\n",
    "counts = result.get_counts(ramsey_quantum_circuit)\n",
    "plot_histogram(counts)"
   ]
  },
  {
   "cell_type": "markdown",
   "metadata": {},
   "source": [
    "### Close the account\n",
    "\n",
    "Just to make sure, close the account after the task is over."
   ]
  },
  {
   "cell_type": "code",
   "execution_count": 16,
   "metadata": {
    "scrolled": true
   },
   "outputs": [],
   "source": [
    "# NBVAL_SKIP\n",
    "IBMQ.disable_account()"
   ]
  },
  {
   "cell_type": "markdown",
   "metadata": {},
   "source": [
    "## Reducing errors by increasing the coherence time\n",
    "\n",
    "In the ideal noiseless simulator, both the Ramsey DDS and Quadratic DDS produced exactly the same outcome, the $|1 \\rangle$ state with probability 1. However, in a real device, we can see a marked difference. The Quadratic DDS produced a probability distribution closer to the expected outcome. This is because the Quadratic DDS is able to cancel the effects of magnetic noise in the environment - extending the [T2 time](https://en.wikipedia.org/wiki/Spin–spin_relaxation), and effectively increasing the coherence of the qubit."
   ]
  }
 ],
 "metadata": {
  "kernelspec": {
   "display_name": "Python 3",
   "language": "python",
   "name": "python3"
  },
  "language_info": {
   "codemirror_mode": {
    "name": "ipython",
    "version": 3
   },
   "file_extension": ".py",
   "mimetype": "text/x-python",
   "name": "python",
   "nbconvert_exporter": "python",
   "pygments_lexer": "ipython3",
   "version": "3.7.10"
  },
  "toc": {
   "base_numbering": 1,
   "nav_menu": {},
   "number_sections": true,
   "sideBar": true,
   "skip_h1_title": true,
   "title_cell": "Table of Contents",
   "title_sidebar": "Contents",
   "toc_cell": false,
   "toc_position": {},
   "toc_section_display": true,
   "toc_window_display": false
  }
 },
 "nbformat": 4,
 "nbformat_minor": 2
}
